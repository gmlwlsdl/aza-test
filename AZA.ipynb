{
  "nbformat": 4,
  "nbformat_minor": 0,
  "metadata": {
    "colab": {
      "provenance": [],
      "gpuType": "T4",
      "authorship_tag": "ABX9TyMmHmVnCgokJutwrqd/U3Rc",
      "include_colab_link": true
    },
    "kernelspec": {
      "name": "python3",
      "display_name": "Python 3"
    },
    "language_info": {
      "name": "python"
    },
    "accelerator": "GPU"
  },
  "cells": [
    {
      "cell_type": "markdown",
      "metadata": {
        "id": "view-in-github",
        "colab_type": "text"
      },
      "source": [
        "<a href=\"https://colab.research.google.com/github/gmlwlsdl/colab_test/blob/main/AZA.ipynb\" target=\"_parent\"><img src=\"https://colab.research.google.com/assets/colab-badge.svg\" alt=\"Open In Colab\"/></a>"
      ]
    },
    {
      "cell_type": "code",
      "source": [
        "pip install selenium"
      ],
      "metadata": {
        "colab": {
          "base_uri": "https://localhost:8080/"
        },
        "collapsed": true,
        "id": "ySI7BcHxNKUY",
        "outputId": "a8a7af5a-aa01-41ff-e786-e4dbffe5d4cd"
      },
      "execution_count": null,
      "outputs": [
        {
          "output_type": "stream",
          "name": "stdout",
          "text": [
            "Collecting selenium\n",
            "  Downloading selenium-4.22.0-py3-none-any.whl (9.4 MB)\n",
            "\u001b[2K     \u001b[90m━━━━━━━━━━━━━━━━━━━━━━━━━━━━━━━━━━━━━━━━\u001b[0m \u001b[32m9.4/9.4 MB\u001b[0m \u001b[31m13.5 MB/s\u001b[0m eta \u001b[36m0:00:00\u001b[0m\n",
            "\u001b[?25hRequirement already satisfied: urllib3[socks]<3,>=1.26 in /usr/local/lib/python3.10/dist-packages (from selenium) (2.0.7)\n",
            "Collecting trio~=0.17 (from selenium)\n",
            "  Downloading trio-0.25.1-py3-none-any.whl (467 kB)\n",
            "\u001b[2K     \u001b[90m━━━━━━━━━━━━━━━━━━━━━━━━━━━━━━━━━━━━━━━━\u001b[0m \u001b[32m467.7/467.7 kB\u001b[0m \u001b[31m11.5 MB/s\u001b[0m eta \u001b[36m0:00:00\u001b[0m\n",
            "\u001b[?25hCollecting trio-websocket~=0.9 (from selenium)\n",
            "  Downloading trio_websocket-0.11.1-py3-none-any.whl (17 kB)\n",
            "Requirement already satisfied: certifi>=2021.10.8 in /usr/local/lib/python3.10/dist-packages (from selenium) (2024.6.2)\n",
            "Requirement already satisfied: typing_extensions>=4.9.0 in /usr/local/lib/python3.10/dist-packages (from selenium) (4.12.2)\n",
            "Requirement already satisfied: websocket-client>=1.8.0 in /usr/local/lib/python3.10/dist-packages (from selenium) (1.8.0)\n",
            "Requirement already satisfied: attrs>=23.2.0 in /usr/local/lib/python3.10/dist-packages (from trio~=0.17->selenium) (23.2.0)\n",
            "Requirement already satisfied: sortedcontainers in /usr/local/lib/python3.10/dist-packages (from trio~=0.17->selenium) (2.4.0)\n",
            "Requirement already satisfied: idna in /usr/local/lib/python3.10/dist-packages (from trio~=0.17->selenium) (3.7)\n",
            "Collecting outcome (from trio~=0.17->selenium)\n",
            "  Downloading outcome-1.3.0.post0-py2.py3-none-any.whl (10 kB)\n",
            "Requirement already satisfied: sniffio>=1.3.0 in /usr/local/lib/python3.10/dist-packages (from trio~=0.17->selenium) (1.3.1)\n",
            "Requirement already satisfied: exceptiongroup in /usr/local/lib/python3.10/dist-packages (from trio~=0.17->selenium) (1.2.1)\n",
            "Collecting wsproto>=0.14 (from trio-websocket~=0.9->selenium)\n",
            "  Downloading wsproto-1.2.0-py3-none-any.whl (24 kB)\n",
            "Requirement already satisfied: pysocks!=1.5.7,<2.0,>=1.5.6 in /usr/local/lib/python3.10/dist-packages (from urllib3[socks]<3,>=1.26->selenium) (1.7.1)\n",
            "Collecting h11<1,>=0.9.0 (from wsproto>=0.14->trio-websocket~=0.9->selenium)\n",
            "  Downloading h11-0.14.0-py3-none-any.whl (58 kB)\n",
            "\u001b[2K     \u001b[90m━━━━━━━━━━━━━━━━━━━━━━━━━━━━━━━━━━━━━━━━\u001b[0m \u001b[32m58.3/58.3 kB\u001b[0m \u001b[31m2.9 MB/s\u001b[0m eta \u001b[36m0:00:00\u001b[0m\n",
            "\u001b[?25hInstalling collected packages: outcome, h11, wsproto, trio, trio-websocket, selenium\n",
            "Successfully installed h11-0.14.0 outcome-1.3.0.post0 selenium-4.22.0 trio-0.25.1 trio-websocket-0.11.1 wsproto-1.2.0\n"
          ]
        }
      ]
    },
    {
      "cell_type": "code",
      "source": [
        "from google.colab import drive\n",
        "drive.mount('/content/drive')"
      ],
      "metadata": {
        "colab": {
          "base_uri": "https://localhost:8080/"
        },
        "id": "9GjICpwnNctU",
        "outputId": "0a8e28b6-48d0-4266-d48c-94319442c53e"
      },
      "execution_count": null,
      "outputs": [
        {
          "output_type": "stream",
          "name": "stdout",
          "text": [
            "Mounted at /content/drive\n"
          ]
        }
      ]
    },
    {
      "cell_type": "code",
      "source": [
        "import selenium\n",
        "print(selenium.__version__)"
      ],
      "metadata": {
        "colab": {
          "base_uri": "https://localhost:8080/"
        },
        "id": "yT09HkJ7OL78",
        "outputId": "79d9925e-3e13-4a2c-9132-b3e2ad2df03c"
      },
      "execution_count": null,
      "outputs": [
        {
          "output_type": "stream",
          "name": "stdout",
          "text": [
            "4.22.0\n"
          ]
        }
      ]
    },
    {
      "cell_type": "code",
      "source": [
        "!pip install chromedriver_autoinstaller"
      ],
      "metadata": {
        "colab": {
          "base_uri": "https://localhost:8080/"
        },
        "collapsed": true,
        "id": "cXN_WcwmPKNH",
        "outputId": "b2db288e-cab8-4f4e-dc28-092e244cc035"
      },
      "execution_count": null,
      "outputs": [
        {
          "output_type": "stream",
          "name": "stdout",
          "text": [
            "Collecting chromedriver_autoinstaller\n",
            "  Downloading chromedriver_autoinstaller-0.6.4-py3-none-any.whl (7.6 kB)\n",
            "Requirement already satisfied: packaging>=23.1 in /usr/local/lib/python3.10/dist-packages (from chromedriver_autoinstaller) (24.1)\n",
            "Installing collected packages: chromedriver_autoinstaller\n",
            "Successfully installed chromedriver_autoinstaller-0.6.4\n"
          ]
        }
      ]
    },
    {
      "cell_type": "code",
      "source": [
        "import os\n",
        "\n",
        "# 구글 드라이브에서 파일 경로 확인\n",
        "file_path = '/content/drive/My Drive/chromedriver'\n",
        "if os.path.exists(file_path):\n",
        "    print(\"File found!\")\n",
        "else:\n",
        "    print(\"File not found!\")\n"
      ],
      "metadata": {
        "colab": {
          "base_uri": "https://localhost:8080/"
        },
        "id": "izrspWlHPb1-",
        "outputId": "9ff7e84a-6d65-403a-acfd-eb93a62dd294"
      },
      "execution_count": null,
      "outputs": [
        {
          "output_type": "stream",
          "name": "stdout",
          "text": [
            "File found!\n"
          ]
        }
      ]
    },
    {
      "cell_type": "code",
      "source": [
        "!wget https://dl.google.com/linux/direct/google-chrome-stable_current_amd64.deb\n",
        "!dpkg -i google-chrome-stable_current_amd64.deb\n",
        "!apt-get -f install -y"
      ],
      "metadata": {
        "colab": {
          "base_uri": "https://localhost:8080/"
        },
        "collapsed": true,
        "id": "Wd8bZEYiQUxm",
        "outputId": "729f9dad-d228-4fd5-e679-888ac0d83a26"
      },
      "execution_count": null,
      "outputs": [
        {
          "output_type": "stream",
          "name": "stdout",
          "text": [
            "--2024-07-02 07:03:24--  https://dl.google.com/linux/direct/google-chrome-stable_current_amd64.deb\n",
            "Resolving dl.google.com (dl.google.com)... 142.250.125.190, 142.250.125.93, 142.250.125.91, ...\n",
            "Connecting to dl.google.com (dl.google.com)|142.250.125.190|:443... connected.\n",
            "HTTP request sent, awaiting response... 200 OK\n",
            "Length: 108773084 (104M) [application/x-debian-package]\n",
            "Saving to: ‘google-chrome-stable_current_amd64.deb’\n",
            "\n",
            "google-chrome-stabl 100%[===================>] 103.73M   151MB/s    in 0.7s    \n",
            "\n",
            "2024-07-02 07:03:25 (151 MB/s) - ‘google-chrome-stable_current_amd64.deb’ saved [108773084/108773084]\n",
            "\n",
            "Selecting previously unselected package google-chrome-stable.\n",
            "(Reading database ... 121925 files and directories currently installed.)\n",
            "Preparing to unpack google-chrome-stable_current_amd64.deb ...\n",
            "Unpacking google-chrome-stable (126.0.6478.126-1) ...\n",
            "\u001b[1mdpkg:\u001b[0m dependency problems prevent configuration of google-chrome-stable:\n",
            " google-chrome-stable depends on libu2f-udev; however:\n",
            "  Package libu2f-udev is not installed.\n",
            " google-chrome-stable depends on libvulkan1; however:\n",
            "  Package libvulkan1 is not installed.\n",
            "\n",
            "\u001b[1mdpkg:\u001b[0m error processing package google-chrome-stable (--install):\n",
            " dependency problems - leaving unconfigured\n",
            "Processing triggers for man-db (2.10.2-1) ...\n",
            "Errors were encountered while processing:\n",
            " google-chrome-stable\n",
            "Reading package lists... Done\n",
            "Building dependency tree... Done\n",
            "Reading state information... Done\n",
            "Correcting dependencies... Done\n",
            "The following additional packages will be installed:\n",
            "  libu2f-udev libudev1 libvulkan1 mesa-vulkan-drivers systemd-hwe-hwdb udev\n",
            "The following NEW packages will be installed:\n",
            "  libu2f-udev libvulkan1 mesa-vulkan-drivers systemd-hwe-hwdb udev\n",
            "The following packages will be upgraded:\n",
            "  libudev1\n",
            "1 upgraded, 5 newly installed, 0 to remove and 44 not upgraded.\n",
            "1 not fully installed or removed.\n",
            "Need to get 12.5 MB of archives.\n",
            "After this operation, 61.1 MB of additional disk space will be used.\n",
            "Get:1 http://archive.ubuntu.com/ubuntu jammy-updates/main amd64 libudev1 amd64 249.11-0ubuntu3.12 [78.2 kB]\n",
            "Get:2 http://archive.ubuntu.com/ubuntu jammy-updates/main amd64 udev amd64 249.11-0ubuntu3.12 [1,557 kB]\n",
            "Get:3 http://archive.ubuntu.com/ubuntu jammy/main amd64 libu2f-udev all 1.1.10-3build2 [4,190 B]\n",
            "Get:4 http://archive.ubuntu.com/ubuntu jammy/main amd64 libvulkan1 amd64 1.3.204.1-2 [128 kB]\n",
            "Get:5 http://archive.ubuntu.com/ubuntu jammy-updates/main amd64 mesa-vulkan-drivers amd64 23.2.1-1ubuntu3.1~22.04.2 [10.7 MB]\n",
            "Get:6 http://archive.ubuntu.com/ubuntu jammy-updates/main amd64 systemd-hwe-hwdb all 249.11.5 [3,228 B]\n",
            "Fetched 12.5 MB in 1s (17.0 MB/s)\n",
            "(Reading database ... 122039 files and directories currently installed.)\n",
            "Preparing to unpack .../libudev1_249.11-0ubuntu3.12_amd64.deb ...\n",
            "Unpacking libudev1:amd64 (249.11-0ubuntu3.12) over (249.11-0ubuntu3.10) ...\n",
            "Setting up libudev1:amd64 (249.11-0ubuntu3.12) ...\n",
            "Selecting previously unselected package udev.\n",
            "(Reading database ... 122039 files and directories currently installed.)\n",
            "Preparing to unpack .../udev_249.11-0ubuntu3.12_amd64.deb ...\n",
            "Unpacking udev (249.11-0ubuntu3.12) ...\n",
            "Selecting previously unselected package libu2f-udev.\n",
            "Preparing to unpack .../libu2f-udev_1.1.10-3build2_all.deb ...\n",
            "Unpacking libu2f-udev (1.1.10-3build2) ...\n",
            "Selecting previously unselected package libvulkan1:amd64.\n",
            "Preparing to unpack .../libvulkan1_1.3.204.1-2_amd64.deb ...\n",
            "Unpacking libvulkan1:amd64 (1.3.204.1-2) ...\n",
            "Selecting previously unselected package mesa-vulkan-drivers:amd64.\n",
            "Preparing to unpack .../mesa-vulkan-drivers_23.2.1-1ubuntu3.1~22.04.2_amd64.deb ...\n",
            "Unpacking mesa-vulkan-drivers:amd64 (23.2.1-1ubuntu3.1~22.04.2) ...\n",
            "Selecting previously unselected package systemd-hwe-hwdb.\n",
            "Preparing to unpack .../systemd-hwe-hwdb_249.11.5_all.deb ...\n",
            "Unpacking systemd-hwe-hwdb (249.11.5) ...\n",
            "Setting up udev (249.11-0ubuntu3.12) ...\n",
            "invoke-rc.d: could not determine current runlevel\n",
            "invoke-rc.d: policy-rc.d denied execution of start.\n",
            "Setting up libvulkan1:amd64 (1.3.204.1-2) ...\n",
            "Setting up systemd-hwe-hwdb (249.11.5) ...\n",
            "Setting up mesa-vulkan-drivers:amd64 (23.2.1-1ubuntu3.1~22.04.2) ...\n",
            "Setting up libu2f-udev (1.1.10-3build2) ...\n",
            "Setting up google-chrome-stable (126.0.6478.126-1) ...\n",
            "update-alternatives: using /usr/bin/google-chrome-stable to provide /usr/bin/x-www-browser (x-www-browser) in auto mode\n",
            "update-alternatives: using /usr/bin/google-chrome-stable to provide /usr/bin/gnome-www-browser (gnome-www-browser) in auto mode\n",
            "update-alternatives: using /usr/bin/google-chrome-stable to provide /usr/bin/google-chrome (google-chrome) in auto mode\n",
            "Processing triggers for man-db (2.10.2-1) ...\n",
            "Processing triggers for libc-bin (2.35-0ubuntu3.4) ...\n",
            "/sbin/ldconfig.real: /usr/local/lib/libtbbmalloc.so.2 is not a symbolic link\n",
            "\n",
            "/sbin/ldconfig.real: /usr/local/lib/libtbbmalloc_proxy.so.2 is not a symbolic link\n",
            "\n",
            "/sbin/ldconfig.real: /usr/local/lib/libtbb.so.12 is not a symbolic link\n",
            "\n",
            "/sbin/ldconfig.real: /usr/local/lib/libtbbbind.so.3 is not a symbolic link\n",
            "\n",
            "/sbin/ldconfig.real: /usr/local/lib/libtbbbind_2_0.so.3 is not a symbolic link\n",
            "\n",
            "/sbin/ldconfig.real: /usr/local/lib/libtbbbind_2_5.so.3 is not a symbolic link\n",
            "\n"
          ]
        }
      ]
    },
    {
      "cell_type": "code",
      "source": [
        "from selenium import webdriver\n",
        "from selenium.webdriver.support.ui import WebDriverWait\n",
        "from selenium.webdriver.support import expected_conditions as EC\n",
        "from selenium.webdriver.common.by import By\n",
        "import sys\n",
        "from selenium.webdriver.common.keys import Keys\n",
        "import urllib.request\n",
        "import os\n",
        "from urllib.request import urlretrieve\n",
        "\n",
        "import time\n",
        "import pandas as pd\n",
        "import chromedriver_autoinstaller\n",
        "\n",
        "chrome_path = \"/content/drive/My Drive/chromedriver\"\n",
        "\n",
        "sys.path.insert(0,chrome_path)\n",
        "chrome_options = webdriver.ChromeOptions()\n",
        "chrome_options.add_argument('--headless') # ensure GUI is off\n",
        "chrome_options.add_argument('--no-sandbox')\n",
        "chrome_options.add_argument('--disable-dev-shm-usage')  # set path to chromedriver as per your configuration\n",
        "chrome_options.add_argument('lang=ko_KR') # 한국어\n",
        "\n",
        "chromedriver_autoinstaller.install()  # set the target URL"
      ],
      "metadata": {
        "colab": {
          "base_uri": "https://localhost:8080/",
          "height": 35
        },
        "id": "bif-SJihPES9",
        "outputId": "6704c7b6-c9c7-4876-ffaf-c1a5ef7892cb"
      },
      "execution_count": null,
      "outputs": [
        {
          "output_type": "execute_result",
          "data": {
            "text/plain": [
              "'/usr/local/lib/python3.10/dist-packages/chromedriver_autoinstaller/126/chromedriver'"
            ],
            "application/vnd.google.colaboratory.intrinsic+json": {
              "type": "string"
            }
          },
          "metadata": {},
          "execution_count": 29
        }
      ]
    },
    {
      "cell_type": "code",
      "source": [
        "def selenium_scroll_option():\n",
        "  SCROLL_PAUSE_SEC = 3\n",
        "\n",
        "  # 스크롤 높이 가져옴\n",
        "  last_height = driver.execute_script(\"return document.body.scrollHeight\")\n",
        "\n",
        "  while True:\n",
        "    # 끝까지 스크롤 다운\n",
        "    driver.execute_script(\"window.scrollTo(0, document.body.scrollHeight);\")\n",
        "\n",
        "    # 10초 대기\n",
        "    time.sleep(SCROLL_PAUSE_SEC)\n",
        "\n",
        "    # 스크롤 다운 후 스크롤 높이 다시 가져옴\n",
        "    new_height = driver.execute_script(\"return document.body.scrollHeight\")\n",
        "\n",
        "    if new_height == last_height:\n",
        "        break\n",
        "    last_height = new_height"
      ],
      "metadata": {
        "id": "MRdXdwtkTXgO"
      },
      "execution_count": null,
      "outputs": []
    },
    {
      "cell_type": "code",
      "source": [
        "url = \"https://www.google.com/\"  # set up the webdriver\n",
        "\n",
        "driver = webdriver.Chrome(options=chrome_options)"
      ],
      "metadata": {
        "id": "tucXi__qTavE"
      },
      "execution_count": null,
      "outputs": []
    },
    {
      "cell_type": "code",
      "source": [
        "# driver 작동 테스트\n",
        "driver.get(url)\n",
        "driver.implicitly_wait(3) # element가 로드될 때까지 지정한 시간만큼 대기할 수 있도록 설정\n",
        "# driver.get_screenshot_as_file('google_screen.png')\n",
        "driver.close()\n",
        "\n",
        "print(driver)"
      ],
      "metadata": {
        "colab": {
          "base_uri": "https://localhost:8080/"
        },
        "id": "14jPijCbTdno",
        "outputId": "b278fc9e-a911-463c-e08c-82802c97157f"
      },
      "execution_count": null,
      "outputs": [
        {
          "output_type": "stream",
          "name": "stdout",
          "text": [
            "<selenium.webdriver.chrome.webdriver.WebDriver (session=\"b2142ba6a7e83c34acf838de3ea3369a\")>\n"
          ]
        }
      ]
    },
    {
      "cell_type": "code",
      "source": [
        "courbet = \"/content/drive/My Drive/\""
      ],
      "metadata": {
        "id": "IgUyLMP4ThZ2"
      },
      "execution_count": null,
      "outputs": []
    },
    {
      "cell_type": "code",
      "source": [
        "import os\n",
        "import time\n",
        "import pandas as pd\n",
        "from selenium import webdriver\n",
        "from selenium.webdriver.chrome.service import Service\n",
        "from selenium.webdriver.chrome.options import Options\n",
        "from selenium.webdriver.common.by import By\n",
        "from selenium.webdriver.common.keys import Keys\n",
        "from selenium.webdriver.support.ui import WebDriverWait\n",
        "from selenium.webdriver.support import expected_conditions as EC\n",
        "from urllib.request import urlretrieve\n",
        "\n",
        "# ChromeOptions 설정\n",
        "chrome_options = Options()\n",
        "chrome_options.add_argument('--headless')  # Headless 모드 설정 (브라우저 창을 띄우지 않음)\n",
        "chrome_options.add_argument('--no-sandbox')\n",
        "chrome_options.add_argument('--disable-dev-shm-usage')\n",
        "\n",
        "# chromedriver 경로 설정\n",
        "chrome_driver_path = '/content/drive/My Drive/chromedriver'  # chromedriver 경로\n",
        "\n",
        "# 권한 설정\n",
        "!chmod +x /content/drive/My\\ Drive/chromedriver\n",
        "\n",
        "# 검색할 키워드와 저장할 이미지 이름 입력\n",
        "base_url = \"https://www.google.co.kr/imghp?hl=ko\" # 구글 이미지 검색\n",
        "keyword = input(\"검색할 키워드를 입력 : \")\n",
        "image_name = input(\"저장할 이미지 이름 : \")\n",
        "\n",
        "# Selenium WebDriver 실행\n",
        "driver = webdriver.Chrome(service=Service(chrome_driver_path), options=chrome_options)\n",
        "driver.get(base_url)\n",
        "\n",
        "# 검색창에 키워드 입력 후 검색\n",
        "browser = driver.find_element(By.NAME, \"q\")\n",
        "browser.clear()\n",
        "browser.send_keys(keyword)\n",
        "browser.send_keys(Keys.RETURN)\n",
        "\n",
        "# 스크롤하여 이미지를 많이 확보\n",
        "selenium_scroll_option()\n",
        "\n",
        "# 이미지 src 요소를 리스트업하여 이미지 URL 저장\n",
        "images = driver.find_elements(By.CSS_SELECTOR, \".YQ4gaf\")  # 클래스 네임에서 공백은 .으로 표시\n",
        "images_url = []\n",
        "for i in images:\n",
        "    src = i.get_attribute('src')\n",
        "    if src:\n",
        "        images_url.append(src)\n",
        "    else:\n",
        "        src = i.get_attribute('data-src')\n",
        "        if src:\n",
        "            images_url.append(src)\n",
        "\n",
        "# 드라이버 종료\n",
        "driver.close()\n",
        "\n",
        "# 겹치는 이미지 URL 제거\n",
        "unique_images_url = pd.Series(images_url).unique()\n",
        "\n",
        "print(\"전체 다운로드한 이미지 개수: {}\\n동일한 이미지를 제거한 이미지 개수: {}\".format(len(images_url), len(unique_images_url)))\n",
        "\n",
        "# 이미지 저장 디렉토리 설정\n",
        "save_dir = 'images'  # 원하는 디렉토리 경로로 변경\n",
        "if not os.path.exists(save_dir):\n",
        "    os.makedirs(save_dir)\n",
        "\n",
        "# 이미지 다운로드\n",
        "if image_name == 'courbet':\n",
        "    for t, url in enumerate(unique_images_url):\n",
        "        try:\n",
        "            urlretrieve(url, os.path.join(save_dir, image_name + '_' + str(t) + '.jpg'))\n",
        "        except Exception as e:\n",
        "            print(f\"이미지 다운로드 실패 (URL: {url}): {e}\")\n",
        "\n",
        "print(\"이미지 다운로드 완료.\")"
      ],
      "metadata": {
        "colab": {
          "base_uri": "https://localhost:8080/"
        },
        "id": "fJyZW6LnTqCK",
        "outputId": "54beadf9-7b70-48bd-b941-c4941af57ad3"
      },
      "execution_count": null,
      "outputs": [
        {
          "output_type": "stream",
          "name": "stdout",
          "text": [
            "검색할 키워드를 입력 : courbet\n",
            "저장할 이미지 이름 : courbet\n",
            "전체 다운로드한 이미지 개수: 1163\n",
            "동일한 이미지를 제거한 이미지 개수: 825\n",
            "이미지 다운로드 실패 (URL: https://encrypted-tbn1.gstatic.com/faviconV2?url=http://www.musee-courbet.fr&client=IMAGE_SEARCH&size=16&type=FAVICON&fallback_opts=TYPE,SIZE,URL): HTTP Error 404: Not Found\n",
            "이미지 다운로드 실패 (URL: https://encrypted-tbn1.gstatic.com/faviconV2?url=http://www.portlandartmuseum.us&client=IMAGE_SEARCH&size=16&type=FAVICON&fallback_opts=TYPE,SIZE,URL): HTTP Error 404: Not Found\n",
            "이미지 다운로드 실패 (URL: https://encrypted-tbn1.gstatic.com/faviconV2?url=http://www.schillerandbodo.com&client=IMAGE_SEARCH&size=16&type=FAVICON&fallback_opts=TYPE,SIZE,URL): HTTP Error 404: Not Found\n",
            "이미지 다운로드 실패 (URL: https://encrypted-tbn3.gstatic.com/faviconV2?url=https://emuseum.mfah.org&client=IMAGE_SEARCH&size=16&type=FAVICON&fallback_opts=TYPE,SIZE,URL): HTTP Error 404: Not Found\n",
            "이미지 다운로드 실패 (URL: https://encrypted-tbn3.gstatic.com/faviconV2?url=https://prints.barnesfoundation.org&client=IMAGE_SEARCH&size=16&type=FAVICON&fallback_opts=TYPE,SIZE,URL): HTTP Error 404: Not Found\n",
            "이미지 다운로드 실패 (URL: https://encrypted-tbn1.gstatic.com/faviconV2?url=https://www.matthiesengallery.com&client=IMAGE_SEARCH&size=16&type=FAVICON&fallback_opts=TYPE,SIZE,URL): HTTP Error 404: Not Found\n",
            "이미지 다운로드 실패 (URL: https://encrypted-tbn3.gstatic.com/faviconV2?url=https://blog.dma.org&client=IMAGE_SEARCH&size=16&type=FAVICON&fallback_opts=TYPE,SIZE,URL): HTTP Error 404: Not Found\n",
            "이미지 다운로드 실패 (URL: https://encrypted-tbn1.gstatic.com/faviconV2?url=https://www.lacan.com&client=IMAGE_SEARCH&size=16&type=FAVICON&fallback_opts=TYPE,SIZE,URL): HTTP Error 404: Not Found\n",
            "이미지 다운로드 완료.\n"
          ]
        }
      ]
    }
  ]
}